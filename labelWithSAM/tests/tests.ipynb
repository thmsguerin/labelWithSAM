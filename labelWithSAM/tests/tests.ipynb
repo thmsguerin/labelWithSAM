{
 "cells": [
  {
   "cell_type": "code",
   "execution_count": 1,
   "id": "3970f3c6-35b2-4ed5-8601-dd4a00bf46b0",
   "metadata": {
    "tags": []
   },
   "outputs": [],
   "source": [
    "import os\n",
    "import sys\n",
    "import torch\n",
    "import torchvision\n",
    "import json\n",
    "\n",
    "import cv2\n",
    "\n",
    "import numpy as np\n",
    "import tkinter as tk\n",
    "from tkinter import filedialog\n",
    "from PIL import Image, ImageTk"
   ]
  },
  {
   "cell_type": "code",
   "execution_count": 2,
   "id": "69ed673a-f142-45b2-b0d1-65768140afc7",
   "metadata": {
    "tags": []
   },
   "outputs": [],
   "source": [
    "from segment_anything import sam_model_registry, SamAutomaticMaskGenerator, SamPredictor"
   ]
  },
  {
   "cell_type": "code",
   "execution_count": 3,
   "id": "b801de8d-dfa3-4b58-a47f-2699b7db2054",
   "metadata": {
    "tags": []
   },
   "outputs": [
    {
     "data": {
      "text/plain": [
       "True"
      ]
     },
     "execution_count": 3,
     "metadata": {},
     "output_type": "execute_result"
    }
   ],
   "source": [
    "torch.cuda.is_available()"
   ]
  },
  {
   "cell_type": "code",
   "execution_count": 4,
   "id": "93dbbea3-1667-4b1b-8948-967b96b60b39",
   "metadata": {
    "tags": []
   },
   "outputs": [
    {
     "name": "stdout",
     "output_type": "stream",
     "text": [
      "../model/sam_vit_b_01ec64.pth ; exist: True\n"
     ]
    }
   ],
   "source": [
    "HOME = \"../\"\n",
    "#gros : sam_vit_h_4b8939.pth  petit : sam_vit_b_01ec64.pth\n",
    "CHECKPOINT_PATH = os.path.join(HOME, \"model\", \"sam_vit_b_01ec64.pth\")  \n",
    "print(CHECKPOINT_PATH, \"; exist:\", os.path.isfile(CHECKPOINT_PATH))\n",
    "MODEL_TYPE = \"vit_b\""
   ]
  },
  {
   "cell_type": "code",
   "execution_count": 128,
   "id": "6a326f36-b247-4472-a7fc-1a8ee8d3813c",
   "metadata": {},
   "outputs": [],
   "source": [
    "class ImageLoader:\n",
    "    def __init__(self, master):\n",
    "        self.master = master\n",
    "        self.master.geometry(\"1024x720\")\n",
    "        self.master.title(\"Image Loader\")\n",
    "        \n",
    "        self.image = None\n",
    "        self.segmented_image = None\n",
    "        self.loaded_image = None\n",
    "        \n",
    "        self.my_dict = {(0,0,0):\"RIEN\",\n",
    "                        (255,0,0):\"item1\",\n",
    "                        (0,255,0):\"item2\",\n",
    "                        (0,0,255):\"item3\"}\n",
    "        \n",
    "        self.display_str = \"\"\n",
    "        for key, value in self.my_dict.items():\n",
    "            self.display_str += f\"{key}: {value}\\n\"\n",
    "        \n",
    "        \n",
    "        # create a frame to hold the buttons\n",
    "        button_frame = tk.Frame(self.master)\n",
    "        button_frame.pack(padx=10, pady=10)\n",
    "        \n",
    "        # create a button to select an image file\n",
    "        self.select_button = tk.Button(button_frame, text=\"Select Image\", command=self.select_image)\n",
    "        self.select_button.pack(side='left', padx=10, pady=10)\n",
    "        \n",
    "        # create a button to create new dict\n",
    "        self.create_dict_button = tk.Button(button_frame, text=\"Create Dict\", command=self.create_dict)\n",
    "        self.create_dict_button.pack(side='left', padx=10, pady=10)\n",
    "        \n",
    "        # create a button to reset the dict to its initial state\n",
    "        self.reset_dict_button = tk.Button(button_frame, text=\"Reset Dict\", command=self.reset_dict)\n",
    "        self.reset_dict_button.pack(side='left', padx=10, pady=10)\n",
    "        \n",
    "        # create a button to perform segmentation\n",
    "        self.segment_button = tk.Button(button_frame, text=\"Perform Segmentation\", command=self.segment_image)\n",
    "        self.segment_button.pack(side='left', padx=10, pady=10)\n",
    "        \n",
    "        \n",
    "        # create a frame to hold the dict label\n",
    "        self.dict_frame = tk.Frame(self.master, borderwidth=2, relief=\"ridge\")\n",
    "        self.dict_frame.pack(side=\"left\", padx=10, pady=10)\n",
    "        \n",
    "        # create a label to display the dict\n",
    "        self.dict_label = tk.Label(self.dict_frame, text=self.display_str, font=(\"Arial\", 12), fg=\"blue\")\n",
    "        self.dict_label.pack(padx=10, pady=10)\n",
    "\n",
    "\n",
    "        # create a label to display the selected image\n",
    "        self.image_label = tk.Label(self.master)\n",
    "        self.image_label.pack(padx=10, pady=10)\n",
    "    \n",
    "    \n",
    "    \n",
    "    def update_display(self):\n",
    "        # Clear the current display\n",
    "        self.dict_label.config(text=\"\")\n",
    "\n",
    "        # Rebuild the display string\n",
    "        self.display_str = \"\"\n",
    "        for key, value in self.my_dict.items():\n",
    "            self.display_str += f\"{key}: {value}\\n\"\n",
    "\n",
    "        # Update the label with the new display string\n",
    "        self.dict_label.config(text=self.display_str)\n",
    "        self.dict_label.pack()   \n",
    "           \n",
    "    def reset_dict(self):\n",
    "        self.my_dict = {(0,0,0):\"RIEN\",\n",
    "                        (255,0,0):\"item1\",\n",
    "                        (0,255,0):\"item2\",\n",
    "                        (0,0,255):\"item3\"}\n",
    "        self.update_display()   \n",
    "        \n",
    "        \n",
    "        \n",
    "    def create_dict(self):\n",
    "        # Create a dialog box to prompt the user for the RGB value and word\n",
    "        dialog = tk.Toplevel(self.master)\n",
    "        dialog.title(\"Add Color Word\")\n",
    "        \n",
    "        tk.Label(dialog, text=\"Enter the RGB value:\").grid(row=0, column=0)\n",
    "        rgb_entry = tk.Entry(dialog)\n",
    "        rgb_entry.grid(row=0, column=1)\n",
    "        tk.Label(dialog, text=\"Enter the word:\").grid(row=1, column=0)\n",
    "        word_entry = tk.Entry(dialog)\n",
    "        word_entry.grid(row=1, column=1)\n",
    "\n",
    "        # When the user clicks OK, add the color and word to the dictionary\n",
    "        def ok():\n",
    "            rgb = tuple(int(x.strip()) for x in rgb_entry.get().split(','))\n",
    "            word = word_entry.get()\n",
    "            self.my_dict[rgb] = word\n",
    "            dialog.destroy()\n",
    "            \n",
    "            # update the label that displays the color dictionary\n",
    "            self.update_display()\n",
    "            \n",
    "        tk.Button(dialog, text=\"OK\", command=ok).grid(row=2, column=1)\n",
    "        \n",
    "        \n",
    "\n",
    "    def select_image(self):\n",
    "        # open a file dialog to select an image file\n",
    "        file_path = filedialog.askopenfilename(filetypes=[(\"Image files\", \"*.*\")])\n",
    "        print(\"Selected file:\", file_path)\n",
    "        self.file_path = file_path\n",
    "        \n",
    "        # load and resize the selected image file using openCV\n",
    "        self.image = cv2.imread(self.file_path)\n",
    "        self.image = cv2.resize(self.image, (512,512))\n",
    "        \n",
    "        # load and resize the selected image file using PIL\n",
    "        image = Image.open(file_path)\n",
    "        image = image.resize((512, 512))\n",
    "    \n",
    "        # convert the image to a Tkinter-compatible format\n",
    "        tk_image = ImageTk.PhotoImage(image)\n",
    "        \n",
    "        # update the image label to display the selected image\n",
    "        self.image_label.configure(image=tk_image)\n",
    "        self.image_label.image = tk_image\n",
    "        \n",
    "        # save the image as an attribute of the ImageLoader instance\n",
    "        self.loaded_image = image\n",
    "        \n",
    "        \n",
    "        \n",
    "    def segment_image(self):\n",
    "        # check if an image is loaded\n",
    "        if self.loaded_image is None:\n",
    "            print(\"Please select an image first.\")\n",
    "            return\n",
    "         \n",
    "        # create a SAM model and mask generator\n",
    "        sam = sam_model_registry[MODEL_TYPE](checkpoint=CHECKPOINT_PATH)\n",
    "        mask_generator = SamAutomaticMaskGenerator(sam)\n",
    "        \n",
    "        # generate masks for the loaded image\n",
    "        sam_result = mask_generator.generate(self.image)\n",
    "        print(f\"There is {len(sam_result)} masks detected in this image.\")\n",
    "        print(sam_result[0].keys())\n",
    "        print(sam_result[0]['segmentation'].shape)\n",
    "\n",
    "        \n",
    "        # extract the segmentation masks\n",
    "        masks = [result[\"segmentation\"] for result in sam_result]\n",
    "        \n",
    "        # combine the masks into a single segmentation mask\n",
    "        segmentation = np.zeros((512,512), dtype=np.uint8)\n",
    "        for mask in masks:\n",
    "            segmentation[mask] = 255\n",
    "\n",
    "        # create a PIL Image from the segmentation mask\n",
    "        segmentation_image = Image.fromarray(segmentation)\n",
    "        \n",
    "        # convert the image to a Tkinter-compatible format\n",
    "        tk_segmentation = ImageTk.PhotoImage(segmentation_image)\n",
    "        \n",
    "        # update the image label to display the segmented image\n",
    "        self.image_label.configure(image=tk_segmentation)\n",
    "        self.image_label.image = tk_segmentation\n",
    "        \n",
    "        # save a reference to the segmentation result\n",
    "        self.sam_result = sam_result"
   ]
  },
  {
   "cell_type": "code",
   "execution_count": 130,
   "id": "11640901-14c4-4782-87a5-587401a2e647",
   "metadata": {
    "tags": []
   },
   "outputs": [
    {
     "name": "stdout",
     "output_type": "stream",
     "text": [
      "Selected file: ()\n"
     ]
    },
    {
     "name": "stderr",
     "output_type": "stream",
     "text": [
      "Exception in Tkinter callback\n",
      "Traceback (most recent call last):\n",
      "  File \"/home/thmsguerin/anaconda3/envs/labelWithSAM/lib/python3.11/tkinter/__init__.py\", line 1948, in __call__\n",
      "    return self.func(*args)\n",
      "           ^^^^^^^^^^^^^^^^\n",
      "  File \"/tmp/ipykernel_6099/164434093.py\", line 112, in select_image\n",
      "    self.image = cv2.imread(self.file_path)\n",
      "                 ^^^^^^^^^^^^^^^^^^^^^^^^^^\n",
      "TypeError: Can't convert object to 'str' for 'filename'\n"
     ]
    }
   ],
   "source": [
    "if __name__ == \"__main__\":\n",
    "    # create the main window and start the event loop\n",
    "    root = tk.Tk()\n",
    "    app = ImageLoader(root)\n",
    "    root.mainloop()"
   ]
  },
  {
   "cell_type": "code",
   "execution_count": null,
   "id": "85b8a838-62ee-4cc4-8df3-18430fb1f7db",
   "metadata": {},
   "outputs": [],
   "source": []
  }
 ],
 "metadata": {
  "kernelspec": {
   "display_name": "Python 3 (ipykernel)",
   "language": "python",
   "name": "python3"
  },
  "language_info": {
   "codemirror_mode": {
    "name": "ipython",
    "version": 3
   },
   "file_extension": ".py",
   "mimetype": "text/x-python",
   "name": "python",
   "nbconvert_exporter": "python",
   "pygments_lexer": "ipython3",
   "version": "3.11.3"
  }
 },
 "nbformat": 4,
 "nbformat_minor": 5
}
