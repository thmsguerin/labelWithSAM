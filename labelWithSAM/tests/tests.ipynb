{
 "cells": [
  {
   "cell_type": "code",
   "execution_count": 1,
   "id": "3970f3c6-35b2-4ed5-8601-dd4a00bf46b0",
   "metadata": {
    "tags": []
   },
   "outputs": [],
   "source": [
    "import numpy as nb\n",
    "\n",
    "import tkinter as tk\n",
    "from tkinter import filedialog\n",
    "from PIL import Image, ImageTk"
   ]
  },
  {
   "cell_type": "code",
   "execution_count": 2,
   "id": "a2fbbb04-8e64-41c0-9d78-e17e9843bc62",
   "metadata": {
    "tags": []
   },
   "outputs": [
    {
     "name": "stdout",
     "output_type": "stream",
     "text": [
      "hello world\n"
     ]
    }
   ],
   "source": [
    "print(\"hello world\")"
   ]
  },
  {
   "cell_type": "code",
   "execution_count": 3,
   "id": "6a326f36-b247-4472-a7fc-1a8ee8d3813c",
   "metadata": {},
   "outputs": [],
   "source": [
    "class ImageLoader:\n",
    "    def __init__(self, master):\n",
    "        self.master = master\n",
    "        self.master.title(\"Image Loader\")\n",
    "        \n",
    "        # create a button to select an image file\n",
    "        self.select_button = tk.Button(self.master, text=\"Select Image\", command=self.select_image)\n",
    "        self.select_button.pack(padx=10, pady=10)\n",
    "        \n",
    "        # create a label to display the selected image\n",
    "        self.image_label = tk.Label(self.master)\n",
    "        self.image_label.pack(padx=10, pady=10)\n",
    "        \n",
    "    def select_image(self):\n",
    "        # open a file dialog to select an image file\n",
    "        file_path = filedialog.askopenfilename(filetypes=[(\"Image files\", \"*.jpg;*.png;*.bmp\")])\n",
    "        \n",
    "        # load the selected image file using PIL\n",
    "        image = Image.open(file_path)\n",
    "        \n",
    "        # convert the image to a Tkinter-compatible format\n",
    "        tk_image = ImageTk.PhotoImage(image)\n",
    "        \n",
    "        # update the image label to display the selected image\n",
    "        self.image_label.configure(image=tk_image)\n",
    "        self.image_label.image = tk_image"
   ]
  },
  {
   "cell_type": "code",
   "execution_count": 4,
   "id": "11640901-14c4-4782-87a5-587401a2e647",
   "metadata": {
    "tags": []
   },
   "outputs": [
    {
     "name": "stderr",
     "output_type": "stream",
     "text": [
      "Exception in Tkinter callback\n",
      "Traceback (most recent call last):\n",
      "  File \"/home/thmsguerin/anaconda3/envs/labelWithSAM/lib/python3.11/site-packages/PIL/Image.py\", line 3240, in open\n",
      "    fp.seek(0)\n",
      "    ^^^^^^^\n",
      "AttributeError: 'str' object has no attribute 'seek'\n",
      "\n",
      "During handling of the above exception, another exception occurred:\n",
      "\n",
      "Traceback (most recent call last):\n",
      "  File \"/home/thmsguerin/anaconda3/envs/labelWithSAM/lib/python3.11/tkinter/__init__.py\", line 1948, in __call__\n",
      "    return self.func(*args)\n",
      "           ^^^^^^^^^^^^^^^^\n",
      "  File \"/tmp/ipykernel_482/909983605.py\", line 19, in select_image\n",
      "    image = Image.open(file_path)\n",
      "            ^^^^^^^^^^^^^^^^^^^^^\n",
      "  File \"/home/thmsguerin/anaconda3/envs/labelWithSAM/lib/python3.11/site-packages/PIL/Image.py\", line 3242, in open\n",
      "    fp = io.BytesIO(fp.read())\n",
      "                    ^^^^^^^\n",
      "AttributeError: 'str' object has no attribute 'read'\n"
     ]
    }
   ],
   "source": [
    "if __name__ == \"__main__\":\n",
    "    # create the main window and start the event loop\n",
    "    root = tk.Tk()\n",
    "    app = ImageLoader(root)\n",
    "    root.mainloop()"
   ]
  },
  {
   "cell_type": "code",
   "execution_count": null,
   "id": "4a2d0cb5-82d0-4974-86ab-917f4c02b973",
   "metadata": {},
   "outputs": [],
   "source": []
  }
 ],
 "metadata": {
  "kernelspec": {
   "display_name": "Python 3 (ipykernel)",
   "language": "python",
   "name": "python3"
  },
  "language_info": {
   "codemirror_mode": {
    "name": "ipython",
    "version": 3
   },
   "file_extension": ".py",
   "mimetype": "text/x-python",
   "name": "python",
   "nbconvert_exporter": "python",
   "pygments_lexer": "ipython3",
   "version": "3.11.3"
  }
 },
 "nbformat": 4,
 "nbformat_minor": 5
}
